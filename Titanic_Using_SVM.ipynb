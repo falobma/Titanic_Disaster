{
 "cells": [
  {
   "cell_type": "code",
   "execution_count": null,
   "metadata": {},
   "outputs": [],
   "source": [
    "import numpy as np\n",
    "import pandas as pd\n",
    "from sklearn.neighbors import KNeighborsClassifier\n",
    "from sklearn import svm, preprocessing\n",
    "from sklearn.cluster import KMeans\n",
    "from sklearn.cluster import MeanShift\n",
    "df = pd.read_csv('train.csv')\n",
    "dt = pd.read_csv('test.csv')\n",
    "\n",
    "df.drop(['PassengerId','Cabin'],1,inplace=True)\n",
    "dt.drop(['PassengerId','Cabin'],1,inplace=True)\n",
    "#df.convert_objects(convert_numeric=True)\n",
    "\n",
    "df.fillna(df.mean(),inplace=True)\n",
    "dt.fillna(dt.mean(),inplace=True)\n",
    "y = np.array(df['Survived'])\n",
    "df.drop(['Survived'], 1, inplace=True)"
   ]
  },
  {
   "cell_type": "code",
   "execution_count": null,
   "metadata": {},
   "outputs": [],
   "source": [
    "df['title']=df.Name.apply(lambda x: x.split('.')[0].split(',')[1].strip())\n",
    "dt['title']=dt.Name.apply(lambda x: x.split('.')[0].split(',')[1].strip())\n",
    "\n",
    "newtitles={\n",
    "    \"Capt\":       \"Officer\",\n",
    "    \"Col\":        \"Officer\",\n",
    "    \"Major\":      \"Officer\",\n",
    "    \"Jonkheer\":   \"Royalty\",\n",
    "    \"Don\":        \"Royalty\",\n",
    "    \"Sir\" :       \"Royalty\",\n",
    "    \"Dr\":         \"Officer\",\n",
    "    \"Rev\":        \"Officer\",\n",
    "    \"the Countess\":\"Royalty\",\n",
    "    \"Dona\":       \"Royalty\",\n",
    "    \"Mme\":        \"Mrs\",\n",
    "    \"Mlle\":       \"Miss\",\n",
    "    \"Ms\":         \"Mrs\",\n",
    "    \"Mr\" :        \"Mr\",\n",
    "    \"Mrs\" :       \"Mrs\",\n",
    "    \"Miss\" :      \"Miss\",\n",
    "    \"Master\" :    \"Master\",\n",
    "    \"Lady\" :      \"Royalty\"}\n",
    "\n",
    "df['title']=df.title.map(newtitles)\n",
    "dt['title']=dt.title.map(newtitles)\n",
    "df['Relative'] = df['SibSp'] + df['Parch']\n",
    "dt['Relative'] = dt['SibSp'] + dt['Parch']\n",
    "\n",
    "df.drop(['Name','Parch','SibSp'],1,inplace=True)\n",
    "dt.drop(['Name','Parch','SibSp'],1,inplace=True)"
   ]
  },
  {
   "cell_type": "code",
   "execution_count": null,
   "metadata": {},
   "outputs": [],
   "source": [
    "#A Function to convert String to float\n",
    "def handle_non_numerical_data(df):\n",
    "    columns = df.columns.values\n",
    "   \n",
    "    for column in columns:\n",
    "        text_digit_vals = {}\n",
    "        def convert_to_int(val):\n",
    "            return text_digit_vals[val]\n",
    "        \n",
    "        if df[column].dtype != np.int64 and df[column].dtype != np.float64 :\n",
    "            column_contents = df[column].values.tolist()\n",
    "            unique_elements = set(column_contents)\n",
    "            x = 0\n",
    "        \n",
    "            for unique in unique_elements:\n",
    "                if unique not in text_digit_vals:\n",
    "                    text_digit_vals[unique] = x\n",
    "                    x+=1\n",
    "            df[column] = list(map(convert_to_int, df[column]))\n",
    "        \n",
    "    return df\n",
    "\n",
    "df = handle_non_numerical_data(df)\n",
    "dt = handle_non_numerical_data(dt)\n",
    "\n",
    "X = np.array(df)\n",
    "test = np.array(dt)\n",
    "X = preprocessing.scale(X)\n",
    "test = preprocessing.scale(test)"
   ]
  },
  {
   "cell_type": "code",
   "execution_count": null,
   "metadata": {},
   "outputs": [],
   "source": [
    "#Training and Testing\n",
    "clf = svm.SVC(kernel ='rbf', gamma ='scale')\n",
    "clf.fit(X,y)\n",
    "predict = clf.predict(test)\n",
    "\n",
    "count=0\n",
    "for i in range(len(predict)):\n",
    "    if predict[i] ==1 :\n",
    "        count+=1\n",
    "print(count)\n",
    "print(predict)"
   ]
  },
  {
   "cell_type": "code",
   "execution_count": null,
   "metadata": {},
   "outputs": [],
   "source": []
  },
  {
   "cell_type": "code",
   "execution_count": null,
   "metadata": {},
   "outputs": [],
   "source": []
  }
 ],
 "metadata": {
  "kernelspec": {
   "display_name": "Python 3",
   "language": "python",
   "name": "python3"
  },
  "language_info": {
   "codemirror_mode": {
    "name": "ipython",
    "version": 3
   },
   "file_extension": ".py",
   "mimetype": "text/x-python",
   "name": "python",
   "nbconvert_exporter": "python",
   "pygments_lexer": "ipython3",
   "version": "3.6.0"
  }
 },
 "nbformat": 4,
 "nbformat_minor": 2
}
